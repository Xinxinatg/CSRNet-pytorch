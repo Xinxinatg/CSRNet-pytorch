{
  "nbformat": 4,
  "nbformat_minor": 0,
  "metadata": {
    "kernelspec": {
      "display_name": "Python 2",
      "language": "python",
      "name": "python2"
    },
    "language_info": {
      "codemirror_mode": {
        "name": "ipython",
        "version": 2
      },
      "file_extension": ".py",
      "mimetype": "text/x-python",
      "name": "python",
      "nbconvert_exporter": "python",
      "pygments_lexer": "ipython2",
      "version": "2.7.13"
    },
    "colab": {
      "name": "Copy of make_dataset.ipynb",
      "provenance": [],
      "collapsed_sections": [],
      "include_colab_link": true
    },
    "accelerator": "GPU"
  },
  "cells": [
    {
      "cell_type": "markdown",
      "metadata": {
        "id": "view-in-github",
        "colab_type": "text"
      },
      "source": [
        "<a href=\"https://colab.research.google.com/github/Xinxinatg/CSRNet-pytorch/blob/master/Copy_of_make_dataset.ipynb\" target=\"_parent\"><img src=\"https://colab.research.google.com/assets/colab-badge.svg\" alt=\"Open In Colab\"/></a>"
      ]
    },
    {
      "cell_type": "code",
      "metadata": {
        "id": "FeeKkiQaR8c0"
      },
      "source": [
        "#!wget --header=\"Host: public.bn.files.1drv.com\" --header=\"User-Agent: Mozilla/5.0 (Windows NT 10.0; Win64; x64) AppleWebKit/537.36 (KHTML, like Gecko) Chrome/86.0.4240.111 Safari/537.36\" --header=\"Accept: text/html,application/xhtml+xml,application/xml;q=0.9,image/avif,image/webp,image/apng,*/*;q=0.8,application/signed-exchange;v=b3;q=0.9\" --header=\"Accept-Language: en-AU,en;q=0.9,zh-CN;q=0.8,zh;q=0.7,en-GB;q=0.6,en-US;q=0.5\" --header=\"Referer: https://onedrive.live.com/\" --header=\"Cookie: ANON=; NAP=; WLSRDSecAuth=FABiARQL3KgEDBNbW84gMYrDN0fBab7xkQNmAAAEgAAACFDz2lC3IAHYIAHikTqbqTr1Ll5RY1g%2Bm5jLZ9uGndiBy2ZWSfotntJanOB9vx1Cy3CfxJShVWbr8/89oKmZzBo%2B6kJd7dftzQq1A2nx9epJ5d4bB5ikF9KL3RFrgN/mkz5OtcB%2BoDynccZF3kZjwhMaw9NGV731T1SRs5GNm3p2ws23OBMWjxn5n4Xhjeg7KFD1pgLDeki%2BiyA/3TbOPEmbx8zImZrysdtRMlk5/3hpvkgk6uzSc7q0SsKJWQSSx8cUsdM4H7kyp3ooaoX6y/lcq%2BqxQQob2e1hv%2BZZXViRdPyryl/rPGylFMn3KWt5obbETWmyf%2BhcJdQpXT2Q4g/NBvftnVIUBrmsegZ/NI6rAKak11nvUnnI5liTV2xkxKslIKgiUkeeFV8UAA9/lp2vZSGQvTcEUdUr3RQS6nQU\" --header=\"Connection: keep-alive\" \"https://public.bn.files.1drv.com/y4maH3C40fIgne8JN7j8IyIRQPCyTEDcDBirESnnG4ahCJ028Qsk-Li3rWnUTTc9o51hiKp_YTH4Iwp16iGadcDplagmE6mnxO3U0X60bZaeBUiUvSv0PvgS-wL5b5-8LG9yQy71_ACQ_V8dVVBUu1pXe0dH6uF35G_Pq0T2WH9qonTHmd_kR2_LxiqsY8i0TVSeSwDUU7Xmt3Lb85XaFU3ClwFh2w0v73_BVkwdWcjWDg?access_token=EwAAA61DBAAUzl/nWKUlBg14ZGcybuC4/OHFdfEAAVwszlXoI/7O5I3qgwlI7PMDRfJvPFfMYNdZSOXbb%2bCBaz%2birU/JEmnjim3pfRA/ozQ0vZUIK49g1uNyS1iQMj71vYjoY6%2bYvyY/t12P/MIsyQab26NTtWoBaXO%2b%2bPca8p2%2bKHQVxDQwCkheOI2xK16aav98PmIqEv/LZ0KJU/pUXQjT3EUU74q7AWt9uDLflKlzBMsU/qIADyAATaWGYWQpXtL5zdkOoJLea8KjIaD1LxZiArdZzUaJLvgDWT9QtlE7lvwrVIqQnHfRJ5Bsc97aQNJZ9xBJygJ9qL%2bzrtGxm%2bjw3o9hoH461P/wUOVOyLJHESjurBm/mvpSq%2bhVw6kDZgAACMnwW6nLvOvM0AFHaDjTBBTHAGytAhCBFV/aS6MF%2biIM8/wRNre3yc/EqRwWCxPwrjSB29xJ2THIhdEiqPiJ4VtAskr4LJhC1SLmxv%2boQKXXW8bNItrTpS4kzY166VZpK3hJvP9ajYMIQRwngKhRaVhpP8KUbr3i3O9yHxL0Bh9FmE4eWDIETIUILNbEk5mIXWQHaO6tAK6pnhp1KBEDV2r79DdhewmM8KlS3XZKvn3kLQ3qHDCQvWXi9b5V7/8iQpf%2b6ioLFZ94Sym1u2wYSVmqLcFuM8R2GTc0zAOiGNq8OdcvjmaAgVM4LGBLqVqVcdhj1t63WxFx47go7/ADdEYiMuiH/Ne5PChLL5EwPqvFMh62V5/tOoD1JKyYbMMASlntZ2E8dd5mcBbY8NxbZAa/RRbeGXBfDyYvikEHR8g0biETj3Jx5a%2bMPC05E5x/oZc2x2DKAwDSYU2pf3TbGD/V1eAB1FopLBbZUADs18u3qSfpnEtw5TTSSGH1uXGvxI7D59ZIAuSrw/0qavjnQfiMjTbOgxT4pC5SMnbQeLk4x2U53o3ak99Y6CW5mjqrQ1m4lO%2bWlEKDAkFhWSyTL%2bSPMZvkLRMUuzRJJ8tcXL2gX4F4sUZHplf%2blA0C\" -c -O 'VisDrone2020-CC.zip'"
      ],
      "execution_count": 26,
      "outputs": []
    },
    {
      "cell_type": "code",
      "metadata": {
        "id": "2mnUpiLZc4fh"
      },
      "source": [
        "#!unzip -q /content/VisDrone2020-CC.zip"
      ],
      "execution_count": 27,
      "outputs": []
    },
    {
      "cell_type": "code",
      "metadata": {
        "id": "zvrKTatJSg3T",
        "outputId": "38980397-53aa-4435-bb6c-5b3e81a03e5b",
        "colab": {
          "base_uri": "https://localhost:8080/"
        }
      },
      "source": [
        "!git clone https://github.com/Xinxinatg/CSRNet-pytorch.git"
      ],
      "execution_count": 43,
      "outputs": [
        {
          "output_type": "stream",
          "text": [
            "fatal: destination path 'CSRNet-pytorch' already exists and is not an empty directory.\n"
          ],
          "name": "stdout"
        }
      ]
    },
    {
      "cell_type": "code",
      "metadata": {
        "id": "35tLIqt5Swpd"
      },
      "source": [
        ""
      ],
      "execution_count": 28,
      "outputs": []
    },
    {
      "cell_type": "code",
      "metadata": {
        "id": "z8AZOQPkcsvK"
      },
      "source": [
        "#import h5py\n",
        "#import scipy.io as io\n",
        "#import sys\n",
        "#        sys.path.extend(['/content/CSRNet-pytorch'])\n",
        " #       import PIL.Image as Image\n",
        "  #      import numpy as np\n",
        "   #     import os\n",
        "    #    import glob\n",
        "     #   from matplotlib import pyplot as plt\n",
        "      #  from scipy.ndimage.filters import gaussian_filter \n",
        "       # import scipy\n",
        "        #import json\n",
        "        #from matplotlib import cm as CM\n",
        "        #from image import *\n",
        "        #from model import CSRNet\n",
        "        #import torch\n",
        "%matplotlib inline\n",
        "import json\n",
        "import h5py\n",
        "import scipy.io as io\n",
        "import sys\n",
        "sys.path.extend(['/content/CSRNet_pytorch'])\n",
        "import PIL.Image as Image\n",
        "import numpy as np\n",
        "import os\n",
        "import glob\n",
        "from matplotlib import pyplot as plt\n",
        "from scipy.ndimage.filters import gaussian_filter \n",
        "import scipy\n",
        "import json\n",
        "from matplotlib import cm as CM\n",
        "from image import *\n",
        "from model import CSRNet\n",
        "import torch"
      ],
      "execution_count": 36,
      "outputs": []
    },
    {
      "cell_type": "code",
      "metadata": {
        "id": "xZmBa0qrcsvU"
      },
      "source": [
        "#this is borrowed from https://github.com/davideverona/deep-crowd-counting_crowdnet\n",
        "def gaussian_filter_density(gt):\n",
        "    print gt.shape\n",
        "    density = np.zeros(gt.shape, dtype=np.float32)\n",
        "    gt_count = np.count_nonzero(gt)\n",
        "    if gt_count == 0:\n",
        "        return density\n",
        "\n",
        "    pts = np.array(zip(np.nonzero(gt)[1], np.nonzero(gt)[0]))\n",
        "    leafsize = 2048\n",
        "    # build kdtree\n",
        "    tree = scipy.spatial.KDTree(pts.copy(), leafsize=leafsize)\n",
        "    # query kdtree\n",
        "    distances, locations = tree.query(pts, k=4)\n",
        "\n",
        "    print 'generate density...'\n",
        "    for i, pt in enumerate(pts):\n",
        "        pt2d = np.zeros(gt.shape, dtype=np.float32)\n",
        "        pt2d[pt[1],pt[0]] = 1.\n",
        "        if gt_count > 1:\n",
        "            sigma = (distances[i][1]+distances[i][2]+distances[i][3])*0.1\n",
        "        else:\n",
        "            sigma = np.average(np.array(gt.shape))/2./2. #case: 1 point\n",
        "        density += scipy.ndimage.filters.gaussian_filter(pt2d, sigma, mode='constant')\n",
        "    print 'done.'\n",
        "    return density"
      ],
      "execution_count": 37,
      "outputs": []
    },
    {
      "cell_type": "code",
      "metadata": {
        "id": "jNMURhG1csvb"
      },
      "source": [
        "#set the root to the visdrone cc dataset\n",
        "root = '/content/VisDrone2020-CC'"
      ],
      "execution_count": 38,
      "outputs": []
    },
    {
      "cell_type": "code",
      "metadata": {
        "id": "SXWxnTbTcsvh"
      },
      "source": [
        "#now generate the ShanghaiA's ground truth\n",
        "#  part_A_train = os.path.join(root,'part_A_final/train_data','images')\n",
        " # part_A_test = os.path.join(root,'part_A_final/test_data','images')\n",
        "  #part_B_train = os.path.join(root,'part_B_final/train_data','images')\n",
        " # part_B_test = os.path.join(root,'part_B_final/test_data','images')\n",
        "#visdrone_train=os.path.join(root,'train')\n",
        "#visdrone_test=os.path.join(root,'test')\n",
        "#path_sets = [part_A_train,part_A_test]\n",
        "mat_train=os.path.join(root,'train','ground_truth')\n",
        "mat_test=os.path.join(root,'test','ground_truth')\n",
        "mat_path_sets=[mat_train,mat_test]"
      ],
      "execution_count": 39,
      "outputs": []
    },
    {
      "cell_type": "code",
      "metadata": {
        "id": "uzQoRP7Gcsvn"
      },
      "source": [
        " #           img_paths = []\n",
        "  #          for path in path_sets:\n",
        "   #             for img_path in glob.glob(os.path.join(path, '*.jpg')):\n",
        "    #                img_paths.append(img_path)\n",
        "mat_paths=[]\n",
        "for path in mat_path_sets:\n",
        "    for mat_path in glob.glob(os.path.join(path, '*.mat')):\n",
        "      mat_paths.append(mat_path)"
      ],
      "execution_count": 40,
      "outputs": []
    },
    {
      "cell_type": "code",
      "metadata": {
        "scrolled": true,
        "id": "kvKIrfLacsvt",
        "outputId": "e026815d-d390-4181-98af-87bdc9e64ef2",
        "colab": {
          "base_uri": "https://localhost:8080/",
          "height": 562
        }
      },
      "source": [
        "#for img_path in img_paths:\n",
        "image_paths=[]\n",
        "for mat_path in mat_paths:\n",
        "#    print img_path\n",
        "    print mat_path\n",
        "    mat=io.loadmat(mat_path)\n",
        "    image_path_temp=mat_path.replace('.mat','.jpg').replace('ground_truth','sequence').replace('GT_IMG_','').replace('_','/')\n",
        "    image_paths.append(image_path_temp)\n",
        "#    mat = io.loadmat(img_path.replace('.jpg','.mat').replace('images','ground_truth').replace('IMG_','GT_IMG_'))\n",
        "    img= plt.imread(image_path_temp)\n",
        "    k = np.zeros((img.shape[0],img.shape[1]))\n",
        "    gt = mat[\"image_info\"][0,0][0,0][0]\n",
        "    for i in range(0,len(gt)):\n",
        "        if int(gt[i][1])<img.shape[0] and int(gt[i][0])<img.shape[1]:\n",
        "            k[int(gt[i][1]),int(gt[i][0])]=1\n",
        "    k = gaussian_filter_density(k)\n",
        "    with h5py.File(mat_path.replace('.mat','.h5'), 'w') as hf:\n",
        "            hf['density'] = k"
      ],
      "execution_count": 34,
      "outputs": [
        {
          "output_type": "stream",
          "text": [
            "/content/VisDrone2020-CC/train/ground_truth/GT_IMG_00099_00026.mat\n",
            "(1080, 1920)\n",
            "generate density...\n",
            "done.\n",
            "/content/VisDrone2020-CC/train/ground_truth/GT_IMG_00019_00027.mat\n",
            "(1080, 1920)\n",
            "generate density...\n",
            "done.\n",
            "/content/VisDrone2020-CC/train/ground_truth/GT_IMG_00013_00004.mat\n",
            "(1080, 1920)\n",
            "generate density...\n"
          ],
          "name": "stdout"
        },
        {
          "output_type": "error",
          "ename": "KeyboardInterrupt",
          "evalue": "ignored",
          "traceback": [
            "\u001b[0;31m\u001b[0m",
            "\u001b[0;31mKeyboardInterrupt\u001b[0mTraceback (most recent call last)",
            "\u001b[0;32m<ipython-input-34-3abfde8de519>\u001b[0m in \u001b[0;36m<module>\u001b[0;34m()\u001b[0m\n\u001b[1;32m     14\u001b[0m         \u001b[0;32mif\u001b[0m \u001b[0mint\u001b[0m\u001b[0;34m(\u001b[0m\u001b[0mgt\u001b[0m\u001b[0;34m[\u001b[0m\u001b[0mi\u001b[0m\u001b[0;34m]\u001b[0m\u001b[0;34m[\u001b[0m\u001b[0;36m1\u001b[0m\u001b[0;34m]\u001b[0m\u001b[0;34m)\u001b[0m\u001b[0;34m<\u001b[0m\u001b[0mimg\u001b[0m\u001b[0;34m.\u001b[0m\u001b[0mshape\u001b[0m\u001b[0;34m[\u001b[0m\u001b[0;36m0\u001b[0m\u001b[0;34m]\u001b[0m \u001b[0;32mand\u001b[0m \u001b[0mint\u001b[0m\u001b[0;34m(\u001b[0m\u001b[0mgt\u001b[0m\u001b[0;34m[\u001b[0m\u001b[0mi\u001b[0m\u001b[0;34m]\u001b[0m\u001b[0;34m[\u001b[0m\u001b[0;36m0\u001b[0m\u001b[0;34m]\u001b[0m\u001b[0;34m)\u001b[0m\u001b[0;34m<\u001b[0m\u001b[0mimg\u001b[0m\u001b[0;34m.\u001b[0m\u001b[0mshape\u001b[0m\u001b[0;34m[\u001b[0m\u001b[0;36m1\u001b[0m\u001b[0;34m]\u001b[0m\u001b[0;34m:\u001b[0m\u001b[0;34m\u001b[0m\u001b[0m\n\u001b[1;32m     15\u001b[0m             \u001b[0mk\u001b[0m\u001b[0;34m[\u001b[0m\u001b[0mint\u001b[0m\u001b[0;34m(\u001b[0m\u001b[0mgt\u001b[0m\u001b[0;34m[\u001b[0m\u001b[0mi\u001b[0m\u001b[0;34m]\u001b[0m\u001b[0;34m[\u001b[0m\u001b[0;36m1\u001b[0m\u001b[0;34m]\u001b[0m\u001b[0;34m)\u001b[0m\u001b[0;34m,\u001b[0m\u001b[0mint\u001b[0m\u001b[0;34m(\u001b[0m\u001b[0mgt\u001b[0m\u001b[0;34m[\u001b[0m\u001b[0mi\u001b[0m\u001b[0;34m]\u001b[0m\u001b[0;34m[\u001b[0m\u001b[0;36m0\u001b[0m\u001b[0;34m]\u001b[0m\u001b[0;34m)\u001b[0m\u001b[0;34m]\u001b[0m\u001b[0;34m=\u001b[0m\u001b[0;36m1\u001b[0m\u001b[0;34m\u001b[0m\u001b[0m\n\u001b[0;32m---> 16\u001b[0;31m     \u001b[0mk\u001b[0m \u001b[0;34m=\u001b[0m \u001b[0mgaussian_filter_density\u001b[0m\u001b[0;34m(\u001b[0m\u001b[0mk\u001b[0m\u001b[0;34m)\u001b[0m\u001b[0;34m\u001b[0m\u001b[0m\n\u001b[0m\u001b[1;32m     17\u001b[0m     \u001b[0;32mwith\u001b[0m \u001b[0mh5py\u001b[0m\u001b[0;34m.\u001b[0m\u001b[0mFile\u001b[0m\u001b[0;34m(\u001b[0m\u001b[0mmat_path\u001b[0m\u001b[0;34m.\u001b[0m\u001b[0mreplace\u001b[0m\u001b[0;34m(\u001b[0m\u001b[0;34m'.mat'\u001b[0m\u001b[0;34m,\u001b[0m\u001b[0;34m'.h5'\u001b[0m\u001b[0;34m)\u001b[0m\u001b[0;34m,\u001b[0m \u001b[0;34m'w'\u001b[0m\u001b[0;34m)\u001b[0m \u001b[0;32mas\u001b[0m \u001b[0mhf\u001b[0m\u001b[0;34m:\u001b[0m\u001b[0;34m\u001b[0m\u001b[0m\n\u001b[1;32m     18\u001b[0m             \u001b[0mhf\u001b[0m\u001b[0;34m[\u001b[0m\u001b[0;34m'density'\u001b[0m\u001b[0;34m]\u001b[0m \u001b[0;34m=\u001b[0m \u001b[0mk\u001b[0m\u001b[0;34m\u001b[0m\u001b[0m\n",
            "\u001b[0;32m<ipython-input-30-eef4ae1633bf>\u001b[0m in \u001b[0;36mgaussian_filter_density\u001b[0;34m(gt)\u001b[0m\n\u001b[1;32m     22\u001b[0m         \u001b[0;32melse\u001b[0m\u001b[0;34m:\u001b[0m\u001b[0;34m\u001b[0m\u001b[0m\n\u001b[1;32m     23\u001b[0m             \u001b[0msigma\u001b[0m \u001b[0;34m=\u001b[0m \u001b[0mnp\u001b[0m\u001b[0;34m.\u001b[0m\u001b[0maverage\u001b[0m\u001b[0;34m(\u001b[0m\u001b[0mnp\u001b[0m\u001b[0;34m.\u001b[0m\u001b[0marray\u001b[0m\u001b[0;34m(\u001b[0m\u001b[0mgt\u001b[0m\u001b[0;34m.\u001b[0m\u001b[0mshape\u001b[0m\u001b[0;34m)\u001b[0m\u001b[0;34m)\u001b[0m\u001b[0;34m/\u001b[0m\u001b[0;36m2.\u001b[0m\u001b[0;34m/\u001b[0m\u001b[0;36m2.\u001b[0m \u001b[0;31m#case: 1 point\u001b[0m\u001b[0;34m\u001b[0m\u001b[0m\n\u001b[0;32m---> 24\u001b[0;31m         \u001b[0mdensity\u001b[0m \u001b[0;34m+=\u001b[0m \u001b[0mscipy\u001b[0m\u001b[0;34m.\u001b[0m\u001b[0mndimage\u001b[0m\u001b[0;34m.\u001b[0m\u001b[0mfilters\u001b[0m\u001b[0;34m.\u001b[0m\u001b[0mgaussian_filter\u001b[0m\u001b[0;34m(\u001b[0m\u001b[0mpt2d\u001b[0m\u001b[0;34m,\u001b[0m \u001b[0msigma\u001b[0m\u001b[0;34m,\u001b[0m \u001b[0mmode\u001b[0m\u001b[0;34m=\u001b[0m\u001b[0;34m'constant'\u001b[0m\u001b[0;34m)\u001b[0m\u001b[0;34m\u001b[0m\u001b[0m\n\u001b[0m\u001b[1;32m     25\u001b[0m     \u001b[0;32mprint\u001b[0m \u001b[0;34m'done.'\u001b[0m\u001b[0;34m\u001b[0m\u001b[0m\n\u001b[1;32m     26\u001b[0m     \u001b[0;32mreturn\u001b[0m \u001b[0mdensity\u001b[0m\u001b[0;34m\u001b[0m\u001b[0m\n",
            "\u001b[0;32m/usr/local/lib/python2.7/dist-packages/scipy/ndimage/filters.pyc\u001b[0m in \u001b[0;36mgaussian_filter\u001b[0;34m(input, sigma, order, output, mode, cval, truncate)\u001b[0m\n\u001b[1;32m    287\u001b[0m         \u001b[0;32mfor\u001b[0m \u001b[0maxis\u001b[0m\u001b[0;34m,\u001b[0m \u001b[0msigma\u001b[0m\u001b[0;34m,\u001b[0m \u001b[0morder\u001b[0m\u001b[0;34m,\u001b[0m \u001b[0mmode\u001b[0m \u001b[0;32min\u001b[0m \u001b[0maxes\u001b[0m\u001b[0;34m:\u001b[0m\u001b[0;34m\u001b[0m\u001b[0m\n\u001b[1;32m    288\u001b[0m             gaussian_filter1d(input, sigma, axis, order, output,\n\u001b[0;32m--> 289\u001b[0;31m                               mode, cval, truncate)\n\u001b[0m\u001b[1;32m    290\u001b[0m             \u001b[0minput\u001b[0m \u001b[0;34m=\u001b[0m \u001b[0moutput\u001b[0m\u001b[0;34m\u001b[0m\u001b[0m\n\u001b[1;32m    291\u001b[0m     \u001b[0;32melse\u001b[0m\u001b[0;34m:\u001b[0m\u001b[0;34m\u001b[0m\u001b[0m\n",
            "\u001b[0;32m/usr/local/lib/python2.7/dist-packages/scipy/ndimage/filters.pyc\u001b[0m in \u001b[0;36mgaussian_filter1d\u001b[0;34m(input, sigma, axis, order, output, mode, cval, truncate)\u001b[0m\n\u001b[1;32m    205\u001b[0m     \u001b[0;31m# Since we are calling correlate, not convolve, revert the kernel\u001b[0m\u001b[0;34m\u001b[0m\u001b[0;34m\u001b[0m\u001b[0m\n\u001b[1;32m    206\u001b[0m     \u001b[0mweights\u001b[0m \u001b[0;34m=\u001b[0m \u001b[0m_gaussian_kernel1d\u001b[0m\u001b[0;34m(\u001b[0m\u001b[0msigma\u001b[0m\u001b[0;34m,\u001b[0m \u001b[0morder\u001b[0m\u001b[0;34m,\u001b[0m \u001b[0mlw\u001b[0m\u001b[0;34m)\u001b[0m\u001b[0;34m[\u001b[0m\u001b[0;34m:\u001b[0m\u001b[0;34m:\u001b[0m\u001b[0;34m-\u001b[0m\u001b[0;36m1\u001b[0m\u001b[0;34m]\u001b[0m\u001b[0;34m\u001b[0m\u001b[0m\n\u001b[0;32m--> 207\u001b[0;31m     \u001b[0;32mreturn\u001b[0m \u001b[0mcorrelate1d\u001b[0m\u001b[0;34m(\u001b[0m\u001b[0minput\u001b[0m\u001b[0;34m,\u001b[0m \u001b[0mweights\u001b[0m\u001b[0;34m,\u001b[0m \u001b[0maxis\u001b[0m\u001b[0;34m,\u001b[0m \u001b[0moutput\u001b[0m\u001b[0;34m,\u001b[0m \u001b[0mmode\u001b[0m\u001b[0;34m,\u001b[0m \u001b[0mcval\u001b[0m\u001b[0;34m,\u001b[0m \u001b[0;36m0\u001b[0m\u001b[0;34m)\u001b[0m\u001b[0;34m\u001b[0m\u001b[0m\n\u001b[0m\u001b[1;32m    208\u001b[0m \u001b[0;34m\u001b[0m\u001b[0m\n\u001b[1;32m    209\u001b[0m \u001b[0;34m\u001b[0m\u001b[0m\n",
            "\u001b[0;32m/usr/local/lib/python2.7/dist-packages/scipy/ndimage/filters.pyc\u001b[0m in \u001b[0;36mcorrelate1d\u001b[0;34m(input, weights, axis, output, mode, cval, origin)\u001b[0m\n\u001b[1;32m     93\u001b[0m     \u001b[0mmode\u001b[0m \u001b[0;34m=\u001b[0m \u001b[0m_ni_support\u001b[0m\u001b[0;34m.\u001b[0m\u001b[0m_extend_mode_to_code\u001b[0m\u001b[0;34m(\u001b[0m\u001b[0mmode\u001b[0m\u001b[0;34m)\u001b[0m\u001b[0;34m\u001b[0m\u001b[0m\n\u001b[1;32m     94\u001b[0m     _nd_image.correlate1d(input, weights, axis, output, mode, cval,\n\u001b[0;32m---> 95\u001b[0;31m                           origin)\n\u001b[0m\u001b[1;32m     96\u001b[0m     \u001b[0;32mreturn\u001b[0m \u001b[0moutput\u001b[0m\u001b[0;34m\u001b[0m\u001b[0m\n\u001b[1;32m     97\u001b[0m \u001b[0;34m\u001b[0m\u001b[0m\n",
            "\u001b[0;31mKeyboardInterrupt\u001b[0m: "
          ]
        }
      ]
    },
    {
      "cell_type": "code",
      "metadata": {
        "id": "2B1PNLFkHc6I"
      },
      "source": [
        ""
      ],
      "execution_count": null,
      "outputs": []
    },
    {
      "cell_type": "code",
      "metadata": {
        "id": "9Z1fnITkcsvz"
      },
      "source": [
        "#now see a sample from ShanghaiA\n",
        "plt.imshow(Image.open(image_paths[0]))"
      ],
      "execution_count": null,
      "outputs": []
    },
    {
      "cell_type": "code",
      "metadata": {
        "id": "vWePZwDucsv3"
      },
      "source": [
        "gt_file = h5py.File(mat_paths[0].replace('.mat','.h5'),'r')\n",
        "groundtruth = np.asarray(gt_file['density'])\n",
        "plt.imshow(groundtruth,cmap=CM.jet)"
      ],
      "execution_count": null,
      "outputs": []
    },
    {
      "cell_type": "code",
      "metadata": {
        "id": "36_K0egNcsv6"
      },
      "source": [
        "np.sum(groundtruth)# don't mind this slight variation"
      ],
      "execution_count": null,
      "outputs": []
    },
    {
      "cell_type": "code",
      "metadata": {
        "id": "D9crgNTcHhqE"
      },
      "source": [
        "#!zip -r part_B_final.zip /content/part_B_final"
      ],
      "execution_count": null,
      "outputs": []
    }
  ]
}