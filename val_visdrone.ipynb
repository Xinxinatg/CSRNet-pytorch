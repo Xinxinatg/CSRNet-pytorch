{
  "nbformat": 4,
  "nbformat_minor": 0,
  "metadata": {
    "kernelspec": {
      "name": "python3",
      "display_name": "Python 3"
    },
    "colab": {
      "name": "val.ipynb",
      "provenance": []
    }
  },
  "cells": [
    {
      "cell_type": "code",
      "metadata": {
        "id": "MBu6nGxnVb4E",
        "outputId": "1f97b8dc-4a23-472f-b8c9-bc87b9a01537",
        "colab": {
          "base_uri": "https://localhost:8080/"
        }
      },
      "source": [
        "!git clone https://github.com/vivek-bombatkar/CSRNet-pytorch.git"
      ],
      "execution_count": 2,
      "outputs": [
        {
          "output_type": "stream",
          "text": [
            "Cloning into 'CSRNet-pytorch'...\n",
            "remote: Enumerating objects: 101, done.\u001b[K\n",
            "remote: Total 101 (delta 0), reused 0 (delta 0), pack-reused 101\u001b[K\n",
            "Receiving objects: 100% (101/101), 625.58 KiB | 9.34 MiB/s, done.\n",
            "Resolving deltas: 100% (57/57), done.\n"
          ],
          "name": "stdout"
        }
      ]
    },
    {
      "cell_type": "code",
      "metadata": {
        "id": "Ol26gMR3U-Jk"
      },
      "source": [
        "import h5py\n",
        "import scipy.io as io\n",
        "import PIL.Image as Image\n",
        "import sys\n",
        "sys.path.extend(['/content/CSRNet-pytorch'])\n",
        "import numpy as np\n",
        "import os\n",
        "import glob\n",
        "from matplotlib import pyplot as plt\n",
        "from scipy.ndimage.filters import gaussian_filter \n",
        "import scipy\n",
        "import json\n",
        "import torchvision.transforms.functional as F\n",
        "from matplotlib import cm as CM\n",
        "from image import *\n",
        "from model import CSRNet\n",
        "import torch\n",
        "%matplotlib inline"
      ],
      "execution_count": 3,
      "outputs": []
    },
    {
      "cell_type": "code",
      "metadata": {
        "id": "PsA-qQ4DU-Jp"
      },
      "source": [
        "from torchvision import datasets, transforms\n",
        "transform=transforms.Compose([\n",
        "                       transforms.ToTensor(),transforms.Normalize(mean=[0.485, 0.456, 0.406],\n",
        "                                     std=[0.229, 0.224, 0.225]),\n",
        "                   ])"
      ],
      "execution_count": null,
      "outputs": []
    },
    {
      "cell_type": "code",
      "metadata": {
        "id": "eqg1PSOaU-Jt"
      },
      "source": [
        "root = '/content/VisDrone2020-CC/'"
      ],
      "execution_count": null,
      "outputs": []
    },
    {
      "cell_type": "code",
      "metadata": {
        "id": "dQi7c7YGU-Jw"
      },
      "source": [
        "#now generate the ShanghaiA's ground truth\n",
        "train = os.path.join(root,'train','images')\n",
        "test = os.path.join(root,'test','images')\n",
        "path_sets = [test]"
      ],
      "execution_count": null,
      "outputs": []
    },
    {
      "cell_type": "code",
      "metadata": {
        "id": "f-b6DcdaU-Jz"
      },
      "source": [
        "img_paths = []\n",
        "for path in path_sets:\n",
        "    for img_path in glob.glob(os.path.join(path, '*.jpg')):\n",
        "        img_paths.append(img_path)"
      ],
      "execution_count": null,
      "outputs": []
    },
    {
      "cell_type": "code",
      "metadata": {
        "id": "4GkL-fDsU-J3"
      },
      "source": [
        "model = CSRNet()"
      ],
      "execution_count": null,
      "outputs": []
    },
    {
      "cell_type": "code",
      "metadata": {
        "id": "dI9rNk3eU-J5"
      },
      "source": [
        "model = model.cuda()"
      ],
      "execution_count": null,
      "outputs": []
    },
    {
      "cell_type": "code",
      "metadata": {
        "id": "-GB6QKnwU-J8"
      },
      "source": [
        "checkpoint = torch.load('model_best.pth.tar')"
      ],
      "execution_count": null,
      "outputs": []
    },
    {
      "cell_type": "code",
      "metadata": {
        "id": "hriiiYIsU-J_"
      },
      "source": [
        "model.load_state_dict(checkpoint['state_dict'])"
      ],
      "execution_count": null,
      "outputs": []
    },
    {
      "cell_type": "code",
      "metadata": {
        "scrolled": true,
        "id": "TPxXH-aGU-KB"
      },
      "source": [
        "mae = 0\n",
        "for i in xrange(len(img_paths)):\n",
        "    img = 255.0 * F.to_tensor(Image.open(img_paths[i]).convert('RGB'))\n",
        "\n",
        "    img[0,:,:]=img[0,:,:]-92.8207477031\n",
        "    img[1,:,:]=img[1,:,:]-95.2757037428\n",
        "    img[2,:,:]=img[2,:,:]-104.877445883\n",
        "    img = img.cuda()\n",
        "    #img = transform(Image.open(img_paths[i]).convert('RGB')).cuda()\n",
        "    gt_file = h5py.File(img_paths[i].replace('.jpg','.h5').replace('images','ground_truth'),'r')\n",
        "    groundtruth = np.asarray(gt_file['density'])\n",
        "    output = model(img.unsqueeze(0))\n",
        "    mae += abs(output.detach().cpu().sum().numpy()-np.sum(groundtruth))\n",
        "    print (i,mae)\n",
        "print (mae/len(img_paths))"
      ],
      "execution_count": null,
      "outputs": []
    }
  ]
}