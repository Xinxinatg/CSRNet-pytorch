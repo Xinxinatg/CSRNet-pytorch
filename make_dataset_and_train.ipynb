{
  "nbformat": 4,
  "nbformat_minor": 0,
  "metadata": {
    "kernelspec": {
      "name": "python3",
      "display_name": "Python 3"
    },
    "colab": {
      "name": "Copy of make_dataset.ipynb",
      "provenance": [],
      "include_colab_link": true
    }
  },
  "cells": [
    {
      "cell_type": "markdown",
      "metadata": {
        "id": "view-in-github",
        "colab_type": "text"
      },
      "source": [
        "<a href=\"https://colab.research.google.com/github/Xinxinatg/CSRNet-pytorch/blob/master/make_dataset_and_train.ipynb\" target=\"_parent\"><img src=\"https://colab.research.google.com/assets/colab-badge.svg\" alt=\"Open In Colab\"/></a>"
      ]
    },
    {
      "cell_type": "code",
      "metadata": {
        "id": "zFKL7kP_MXGs"
      },
      "source": [
        "#!git clone https://github.com/vivek-bombatkar/CSRNet-pytorch.git"
      ],
      "execution_count": null,
      "outputs": []
    },
    {
      "cell_type": "code",
      "metadata": {
        "id": "RJPMZD9WPW2K"
      },
      "source": [
        "#!wget --header=\"Host: doc-0k-64-docs.googleusercontent.com\" --header=\"User-Agent: Mozilla/5.0 (Windows NT 10.0; Win64; x64) AppleWebKit/537.36 (KHTML, like Gecko) Chrome/86.0.4240.111 Safari/537.36\" --header=\"Accept: text/html,application/xhtml+xml,application/xml;q=0.9,image/avif,image/webp,image/apng,*/*;q=0.8,application/signed-exchange;v=b3;q=0.9\" --header=\"Accept-Language: en-AU,en;q=0.9,zh-CN;q=0.8,zh;q=0.7,en-GB;q=0.6,en-US;q=0.5\" --header=\"Cookie: AUTH_9hg3ee1ib7ptld264s2flqgrf9hg9jro_nonce=lrmfhnf36dg1o\" --header=\"Connection: keep-alive\" \"https://doc-0k-64-docs.googleusercontent.com/docs/securesc/0chsofepnd39clr7fg0d2tu89snbaa74/9bol3t2b507br9r703uqsf0vv5ejk3rg/1603972950000/07527692003091305349/07527692003091305349/1tGszHbRCFg4NwlrMo9p1GrPl7TaBzxsK?e=download&authuser=0&nonce=lrmfhnf36dg1o&user=07527692003091305349&hash=5qpp4gg2o4orl8c2f2sacamrj63t6a64\" -c -O 'VisDrone2020-CC_processed.zip'"
      ],
      "execution_count": null,
      "outputs": []
    },
    {
      "cell_type": "code",
      "metadata": {
        "id": "4h6A23sWPalv"
      },
      "source": [
        "#!unzip -q /content/VisDrone2020-CC_processed.zip"
      ],
      "execution_count": null,
      "outputs": []
    },
    {
      "cell_type": "code",
      "metadata": {
        "id": "r8U2mTdJMTU9"
      },
      "source": [
        "import h5py\n",
        "import json\n",
        "import scipy.io as io\n",
        "import sys\n",
        "sys.path.extend(['/content/CSRNet-pytorch'])\n",
        "import PIL.Image as Image\n",
        "import numpy as np\n",
        "import os\n",
        "import glob\n",
        "from matplotlib import pyplot as plt\n",
        "from scipy.ndimage.filters import gaussian_filter \n",
        "import scipy\n",
        "import scipy.spatial\n",
        "import json\n",
        "from matplotlib import cm as CM\n",
        "from image import *\n",
        "from model import CSRNet\n",
        "import torch\n",
        "%matplotlib inline"
      ],
      "execution_count": null,
      "outputs": []
    },
    {
      "cell_type": "code",
      "metadata": {
        "id": "nvcV3KHZMTVB"
      },
      "source": [
        "#this is borrowed from https://github.com/davideverona/deep-crowd-counting_crowdnet\n",
        "def gaussian_filter_density(gt):\n",
        "    print (gt.shape)\n",
        "    density = np.zeros(gt.shape, dtype=np.float32)\n",
        "    gt_count = np.count_nonzero(gt)\n",
        "    if gt_count == 0:\n",
        "        return density\n",
        "\n",
        "#    pts = np.array(zip(np.nonzero(gt)[1], np.nonzero(gt)[0]))  python 2 version\n",
        "    pts = np.array(list(zip(np.nonzero(gt)[1], np.nonzero(gt)[0])))\n",
        "    leafsize = 2048\n",
        "    # build kdtree\n",
        "    tree = scipy.spatial.KDTree(pts.copy(), leafsize=leafsize)\n",
        "    # query kdtree\n",
        "    distances, locations = tree.query(pts, k=4)\n",
        "\n",
        "    print ('generate density...')\n",
        "    for i, pt in enumerate(pts):\n",
        "        pt2d = np.zeros(gt.shape, dtype=np.float32)\n",
        "        pt2d[pt[1],pt[0]] = 1.\n",
        "        if gt_count > 1:\n",
        "            sigma = (distances[i][1]+distances[i][2]+distances[i][3])*0.1\n",
        "        else:\n",
        "            sigma = np.average(np.array(gt.shape))/2./2. #case: 1 point\n",
        "        density += scipy.ndimage.filters.gaussian_filter(pt2d, sigma, mode='constant')\n",
        "    print ('done.')\n",
        "    return density"
      ],
      "execution_count": null,
      "outputs": []
    },
    {
      "cell_type": "code",
      "metadata": {
        "id": "siauCbz0MTVE"
      },
      "source": [
        "#set the root to the Shanghai dataset you download\n",
        "root = '/content/VisDrone2020-CC/'"
      ],
      "execution_count": null,
      "outputs": []
    },
    {
      "cell_type": "code",
      "metadata": {
        "id": "tSJxLxSHMTVH"
      },
      "source": [
        "#now generate the ShanghaiA's ground truth\n",
        "#                part_A_train = os.path.join(root,'part_A_final/train_data','images')\n",
        " #               part_A_test = os.path.join(root,'part_A_final/test_data','images')\n",
        "  #              part_B_train = os.path.join(root,'part_B_final/train_data','images')\n",
        "   #             part_B_test = os.path.join(root,'part_B_final/test_data','images')\n",
        "    #            path_sets = [part_A_train,part_A_test]\n",
        "train = os.path.join(root,'train','images')\n",
        "test = os.path.join(root,'test','images')\n",
        "path_sets = [train,test]"
      ],
      "execution_count": null,
      "outputs": []
    },
    {
      "cell_type": "code",
      "metadata": {
        "id": "EuPEdeVQMTVK"
      },
      "source": [
        "img_paths = []\n",
        "for path in path_sets:\n",
        "    for img_path in glob.glob(os.path.join(path, '*.jpg')):\n",
        "        img_paths.append(img_path)\n",
        "\n",
        "with open('train.json', 'w') as f:\n",
        "    json.dump(img_paths, f)"
      ],
      "execution_count": null,
      "outputs": []
    },
    {
      "cell_type": "code",
      "metadata": {
        "scrolled": true,
        "id": "9IENuabQMTVO",
        "outputId": "b3b89baa-d328-41d7-ad51-913f39102593",
        "colab": {
          "base_uri": "https://localhost:8080/"
        }
      },
      "source": [
        "for img_path in img_paths:\n",
        "    print (img_path)\n",
        "    mat = io.loadmat(img_path.replace('.jpg','.mat').replace('images','ground_truth').replace('IMG_','GT_IMG_'))\n",
        "    img= plt.imread(img_path)\n",
        "    k = np.zeros((img.shape[0],img.shape[1]))\n",
        "    gt = mat[\"image_info\"][0,0][0,0][0]\n",
        "    for i in range(0,len(gt)):\n",
        "        if int(gt[i][1])<img.shape[0] and int(gt[i][0])<img.shape[1]:\n",
        "            k[int(gt[i][1]),int(gt[i][0])]=1\n",
        "    k = gaussian_filter_density(k)\n",
        "    with h5py.File(img_path.replace('.jpg','.h5').replace('images','ground_truth'), 'w') as hf:\n",
        "            hf['density'] = k"
      ],
      "execution_count": null,
      "outputs": [
        {
          "output_type": "stream",
          "text": [
            "/content/VisDrone2020-CC/train/images/IMG_00064_00004.jpg\n",
            "(1080, 1920)\n",
            "generate density...\n",
            "done.\n",
            "/content/VisDrone2020-CC/train/images/IMG_00084_00012.jpg\n",
            "(1080, 1920)\n",
            "generate density...\n",
            "done.\n",
            "/content/VisDrone2020-CC/train/images/IMG_00051_00014.jpg\n",
            "(1080, 1920)\n",
            "generate density...\n",
            "done.\n",
            "/content/VisDrone2020-CC/train/images/IMG_00002_00025.jpg\n",
            "(1080, 1920)\n",
            "generate density...\n",
            "done.\n",
            "/content/VisDrone2020-CC/train/images/IMG_00066_00019.jpg\n",
            "(1080, 1920)\n",
            "generate density...\n",
            "done.\n",
            "/content/VisDrone2020-CC/train/images/IMG_00005_00029.jpg\n",
            "(1080, 1920)\n",
            "generate density...\n",
            "done.\n",
            "/content/VisDrone2020-CC/train/images/IMG_00013_00015.jpg\n",
            "(1080, 1920)\n",
            "generate density...\n",
            "done.\n",
            "/content/VisDrone2020-CC/train/images/IMG_00005_00016.jpg\n",
            "(1080, 1920)\n",
            "generate density...\n",
            "done.\n",
            "/content/VisDrone2020-CC/train/images/IMG_00087_00030.jpg\n",
            "(1080, 1920)\n",
            "generate density...\n",
            "done.\n",
            "/content/VisDrone2020-CC/train/images/IMG_00064_00018.jpg\n",
            "(1080, 1920)\n",
            "generate density...\n",
            "done.\n",
            "/content/VisDrone2020-CC/train/images/IMG_00012_00014.jpg\n",
            "(1080, 1920)\n",
            "generate density...\n",
            "done.\n",
            "/content/VisDrone2020-CC/train/images/IMG_00046_00015.jpg\n",
            "(1080, 1920)\n",
            "generate density...\n",
            "done.\n",
            "/content/VisDrone2020-CC/train/images/IMG_00007_00007.jpg\n",
            "(1080, 1920)\n",
            "generate density...\n",
            "done.\n",
            "/content/VisDrone2020-CC/train/images/IMG_00078_00010.jpg\n",
            "(1080, 1920)\n",
            "generate density...\n",
            "done.\n",
            "/content/VisDrone2020-CC/train/images/IMG_00014_00025.jpg\n",
            "(1080, 1920)\n",
            "generate density...\n",
            "done.\n",
            "/content/VisDrone2020-CC/train/images/IMG_00026_00006.jpg\n",
            "(1080, 1920)\n",
            "generate density...\n"
          ],
          "name": "stdout"
        }
      ]
    },
    {
      "cell_type": "code",
      "metadata": {
        "id": "UqVJsI05MTVQ"
      },
      "source": [
        "#now see a sample from ShanghaiA\n",
        "plt.imshow(Image.open(img_paths[0]))"
      ],
      "execution_count": null,
      "outputs": []
    },
    {
      "cell_type": "code",
      "metadata": {
        "id": "jIMK1p9zMTVT"
      },
      "source": [
        "gt_file = h5py.File(img_paths[0].replace('.jpg','.h5').replace('images','ground_truth'),'r')\n",
        "groundtruth = np.asarray(gt_file['density'])\n",
        "plt.imshow(groundtruth,cmap=CM.jet)"
      ],
      "execution_count": null,
      "outputs": []
    },
    {
      "cell_type": "code",
      "metadata": {
        "id": "5JQV5Ol9MTVW"
      },
      "source": [
        "np.sum(groundtruth)# don't mind this slight variation"
      ],
      "execution_count": null,
      "outputs": []
    },
    {
      "cell_type": "code",
      "metadata": {
        "id": "eOYJ1vs5SA6_"
      },
      "source": [
        "!cd CSRNet_pytorch\n",
        "!python train.py /content/CSRNet-pytorch/train.json /content/CSRNet-pytorch/val.json 0 0"
      ],
      "execution_count": null,
      "outputs": []
    }
  ]
}