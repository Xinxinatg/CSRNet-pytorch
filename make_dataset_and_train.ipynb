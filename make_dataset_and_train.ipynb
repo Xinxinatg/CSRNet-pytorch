{
  "nbformat": 4,
  "nbformat_minor": 0,
  "metadata": {
    "kernelspec": {
      "display_name": "Python 2",
      "language": "python",
      "name": "python2"
    },
    "language_info": {
      "codemirror_mode": {
        "name": "ipython",
        "version": 2
      },
      "file_extension": ".py",
      "mimetype": "text/x-python",
      "name": "python",
      "nbconvert_exporter": "python",
      "pygments_lexer": "ipython2",
      "version": "2.7.13"
    },
    "colab": {
      "name": "Copy of make_dataset.ipynb",
      "provenance": [],
      "collapsed_sections": [],
      "include_colab_link": true
    },
    "accelerator": "GPU"
  },
  "cells": [
    {
      "cell_type": "markdown",
      "metadata": {
        "id": "view-in-github",
        "colab_type": "text"
      },
      "source": [
        "<a href=\"https://colab.research.google.com/github/Xinxinatg/CSRNet-pytorch/blob/master/make_dataset_and_train.ipynb\" target=\"_parent\"><img src=\"https://colab.research.google.com/assets/colab-badge.svg\" alt=\"Open In Colab\"/></a>"
      ]
    },
    {
      "cell_type": "code",
      "metadata": {
        "id": "FeeKkiQaR8c0"
      },
      "source": [
        "#!wget --header=\"Host: doc-0o-64-docs.googleusercontent.com\" --header=\"User-Agent: Mozilla/5.0 (Windows NT 10.0; Win64; x64) AppleWebKit/537.36 (KHTML, like Gecko) Chrome/86.0.4240.111 Safari/537.36\" --header=\"Accept: text/html,application/xhtml+xml,application/xml;q=0.9,image/avif,image/webp,image/apng,*/*;q=0.8,application/signed-exchange;v=b3;q=0.9\" --header=\"Accept-Language: en-AU,en;q=0.9,zh-CN;q=0.8,zh;q=0.7,en-GB;q=0.6,en-US;q=0.5\" --header=\"Cookie: AUTH_9hg3ee1ib7ptld264s2flqgrf9hg9jro_nonce=7p5l7uis53e3c\" --header=\"Connection: keep-alive\" \"https://doc-0o-64-docs.googleusercontent.com/docs/securesc/0chsofepnd39clr7fg0d2tu89snbaa74/f2bco2an79m1lb32hb7c0bg56ebngt8d/1603958700000/07527692003091305349/07527692003091305349/128T12A_F_e_K_PBDog4RqsB19Qjq0kx-?e=download&authuser=0&nonce=7p5l7uis53e3c&user=07527692003091305349&hash=4tslfbim8n9bq7eup8iok00c3vd6cooq\" -c -O 'VisDrone2020-CC.zip'"
      ],
      "execution_count": 4,
      "outputs": []
    },
    {
      "cell_type": "code",
      "metadata": {
        "id": "2mnUpiLZc4fh"
      },
      "source": [
        "#!unzip -q /content/VisDrone2020-CC.zip"
      ],
      "execution_count": 5,
      "outputs": []
    },
    {
      "cell_type": "code",
      "metadata": {
        "id": "zvrKTatJSg3T"
      },
      "source": [
        "#!git clone https://github.com/Xinxinatg/CSRNet-pytorch.git"
      ],
      "execution_count": 6,
      "outputs": []
    },
    {
      "cell_type": "code",
      "metadata": {
        "id": "35tLIqt5Swpd"
      },
      "source": [
        ""
      ],
      "execution_count": 6,
      "outputs": []
    },
    {
      "cell_type": "code",
      "metadata": {
        "id": "z8AZOQPkcsvK"
      },
      "source": [
        "#import h5py\n",
        "#import scipy.io as io\n",
        "#import sys\n",
        "#        sys.path.extend(['/content/CSRNet-pytorch'])\n",
        " #       import PIL.Image as Image\n",
        "  #      import numpy as np\n",
        "   #     import os\n",
        "    #    import glob\n",
        "     #   from matplotlib import pyplot as plt\n",
        "      #  from scipy.ndimage.filters import gaussian_filter \n",
        "       # import scipy\n",
        "        #import json\n",
        "        #from matplotlib import cm as CM\n",
        "        #from image import *\n",
        "        #from model import CSRNet\n",
        "        #import torch\n",
        "%matplotlib inline\n",
        "import json\n",
        "import h5py\n",
        "import scipy.io as io\n",
        "import sys\n",
        "sys.path.extend(['/content/CSRNet_pytorch'])\n",
        "import PIL.Image as Image\n",
        "import numpy as np\n",
        "import os\n",
        "import glob\n",
        "from matplotlib import pyplot as plt\n",
        "from scipy.ndimage.filters import gaussian_filter \n",
        "import scipy\n",
        "import json\n",
        "from matplotlib import cm as CM\n",
        "from image import *\n",
        "from model import CSRNet\n",
        "import torch"
      ],
      "execution_count": 7,
      "outputs": []
    },
    {
      "cell_type": "code",
      "metadata": {
        "id": "xZmBa0qrcsvU"
      },
      "source": [
        "#this is borrowed from https://github.com/davideverona/deep-crowd-counting_crowdnet\n",
        "def gaussian_filter_density(gt):\n",
        "    print gt.shape\n",
        "    density = np.zeros(gt.shape, dtype=np.float32)\n",
        "    gt_count = np.count_nonzero(gt)\n",
        "    if gt_count == 0:\n",
        "        return density\n",
        "\n",
        "    pts = np.array(zip(np.nonzero(gt)[1], np.nonzero(gt)[0]))\n",
        "    leafsize = 2048\n",
        "    # build kdtree\n",
        "    tree = scipy.spatial.KDTree(pts.copy(), leafsize=leafsize)\n",
        "    # query kdtree\n",
        "    distances, locations = tree.query(pts, k=4)\n",
        "\n",
        "    print 'generate density...'\n",
        "    for i, pt in enumerate(pts):\n",
        "        pt2d = np.zeros(gt.shape, dtype=np.float32)\n",
        "        pt2d[pt[1],pt[0]] = 1.\n",
        "        if gt_count > 1:\n",
        "            sigma = (distances[i][1]+distances[i][2]+distances[i][3])*0.1\n",
        "        else:\n",
        "            sigma = np.average(np.array(gt.shape))/2./2. #case: 1 point\n",
        "        density += scipy.ndimage.filters.gaussian_filter(pt2d, sigma, mode='constant')\n",
        "    print 'done.'\n",
        "    return density"
      ],
      "execution_count": 8,
      "outputs": []
    },
    {
      "cell_type": "code",
      "metadata": {
        "id": "jNMURhG1csvb"
      },
      "source": [
        "#set the root to the visdrone cc dataset\n",
        "root = '/content/VisDrone2020-CC'"
      ],
      "execution_count": 9,
      "outputs": []
    },
    {
      "cell_type": "code",
      "metadata": {
        "id": "SXWxnTbTcsvh"
      },
      "source": [
        "#now generate the ShanghaiA's ground truth\n",
        "#  part_A_train = os.path.join(root,'part_A_final/train_data','images')\n",
        " # part_A_test = os.path.join(root,'part_A_final/test_data','images')\n",
        "  #part_B_train = os.path.join(root,'part_B_final/train_data','images')\n",
        " # part_B_test = os.path.join(root,'part_B_final/test_data','images')\n",
        "#visdrone_train=os.path.join(root,'train')\n",
        "#visdrone_test=os.path.join(root,'test')\n",
        "#path_sets = [part_A_train,part_A_test]\n",
        "mat_train=os.path.join(root,'train','ground_truth')\n",
        "mat_test=os.path.join(root,'test','ground_truth')\n",
        "mat_path_sets=[mat_train,mat_test]\n",
        "mat_paths=[]\n"
      ],
      "execution_count": 10,
      "outputs": []
    },
    {
      "cell_type": "code",
      "metadata": {
        "id": "uzQoRP7Gcsvn"
      },
      "source": [
        " #           img_paths = []\n",
        "  #          for path in path_sets:\n",
        "   #             for img_path in glob.glob(os.path.join(path, '*.jpg')):\n",
        "    #                img_paths.append(img_path)\n",
        "mat_paths=[]\n",
        "for path in mat_path_sets:\n",
        "    for mat_path in glob.glob(os.path.join(path, '*.mat')):\n",
        "      mat_paths.append(mat_path)"
      ],
      "execution_count": 11,
      "outputs": []
    },
    {
      "cell_type": "code",
      "metadata": {
        "scrolled": true,
        "id": "kvKIrfLacsvt",
        "outputId": "47df0666-471f-43a5-8b36-e15248bfe501",
        "colab": {
          "base_uri": "https://localhost:8080/"
        }
      },
      "source": [
        "#for img_path in img_paths:\n",
        "image_paths=[]\n",
        "for mat_path in mat_paths:\n",
        "#    print img_path\n",
        "    print mat_path\n",
        "    mat=io.loadmat(mat_path)\n",
        "    image_path_temp=mat_path.replace('.mat','.jpg').replace('ground_truth','sequence').replace('GT_IMG_','').replace('_','/')\n",
        "    image_paths.append(image_path_temp)\n",
        "#    mat = io.loadmat(img_path.replace('.jpg','.mat').replace('images','ground_truth').replace('IMG_','GT_IMG_'))\n",
        "    img= plt.imread(image_path_temp)\n",
        "    k = np.zeros((img.shape[0],img.shape[1]))\n",
        "    gt = mat[\"image_info\"][0,0][0,0][0]\n",
        "    for i in range(0,len(gt)):\n",
        "        if int(gt[i][1])<img.shape[0] and int(gt[i][0])<img.shape[1]:\n",
        "            k[int(gt[i][1]),int(gt[i][0])]=1\n",
        "    k = gaussian_filter_density(k)\n",
        "    with h5py.File(mat_path.replace('.mat','.h5'), 'w') as hf:\n",
        "            hf['density'] = k"
      ],
      "execution_count": null,
      "outputs": [
        {
          "output_type": "stream",
          "text": [
            "/content/VisDrone2020-CC/train/ground_truth/GT_IMG_00099_00026.mat\n",
            "(1080, 1920)\n",
            "generate density...\n",
            "done.\n",
            "/content/VisDrone2020-CC/train/ground_truth/GT_IMG_00019_00027.mat\n",
            "(1080, 1920)\n",
            "generate density...\n",
            "done.\n",
            "/content/VisDrone2020-CC/train/ground_truth/GT_IMG_00013_00004.mat\n",
            "(1080, 1920)\n",
            "generate density...\n",
            "done.\n",
            "/content/VisDrone2020-CC/train/ground_truth/GT_IMG_00083_00007.mat\n",
            "(1080, 1920)\n",
            "generate density...\n",
            "done.\n",
            "/content/VisDrone2020-CC/train/ground_truth/GT_IMG_00102_00021.mat\n",
            "(1080, 1920)\n",
            "generate density...\n"
          ],
          "name": "stdout"
        }
      ]
    },
    {
      "cell_type": "code",
      "metadata": {
        "id": "2B1PNLFkHc6I"
      },
      "source": [
        ""
      ],
      "execution_count": null,
      "outputs": []
    },
    {
      "cell_type": "code",
      "metadata": {
        "id": "9Z1fnITkcsvz"
      },
      "source": [
        "#now see a sample from ShanghaiA\n",
        "plt.imshow(Image.open(image_paths[0]))"
      ],
      "execution_count": null,
      "outputs": []
    },
    {
      "cell_type": "code",
      "metadata": {
        "id": "vWePZwDucsv3"
      },
      "source": [
        "gt_file = h5py.File(mat_paths[0].replace('.mat','.h5'),'r')\n",
        "groundtruth = np.asarray(gt_file['density'])\n",
        "plt.imshow(groundtruth,cmap=CM.jet)"
      ],
      "execution_count": null,
      "outputs": []
    },
    {
      "cell_type": "code",
      "metadata": {
        "id": "36_K0egNcsv6"
      },
      "source": [
        "np.sum(groundtruth)# don't mind this slight variation"
      ],
      "execution_count": null,
      "outputs": []
    },
    {
      "cell_type": "code",
      "metadata": {
        "id": "RklUeg81b3MF"
      },
      "source": [
        "!cd CSRNet_pytorch\n",
        "!python train.py /content/CSRNet_pytorch/test.json /content/CSRNet_pytorch/val.json 0 0"
      ],
      "execution_count": null,
      "outputs": []
    },
    {
      "cell_type": "code",
      "metadata": {
        "id": "D9crgNTcHhqE"
      },
      "source": [
        "#!zip -r part_B_final.zip /content/part_B_final"
      ],
      "execution_count": null,
      "outputs": []
    }
  ]
}